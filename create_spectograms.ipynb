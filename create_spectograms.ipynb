{
 "cells": [
  {
   "cell_type": "code",
   "execution_count": null,
   "metadata": {},
   "outputs": [],
   "source": [
    "import librosa\n",
    "import librosa.display\n",
    "import matplotlib.pyplot as plt\n",
    "\n",
    "# Load an audio file\n",
    "y, sr = librosa.load('/path/to/your/audio/file.wav')\n",
    "\n",
    "# Generate a Mel spectrogram\n",
    "S = librosa.feature.melspectrogram(y, sr=sr, n_fft=2048, hop_length=512, n_mels=128)\n",
    "\n",
    "# Convert to log scale (dB)\n",
    "log_S = librosa.power_to_db(S, ref=np.max)\n",
    "\n",
    "# Create a figure\n",
    "plt.figure(figsize=(12, 4))\n",
    "\n",
    "# Display the spectrogram\n",
    "librosa.display.specshow(log_S, sr=sr, x_axis='time', y_axis='mel')\n",
    "\n",
    "# Set the color map to 'magma', 'plasma', 'inferno', or 'viridis'\n",
    "plt.colorbar(format='%+2.0f dB', cmap='plasma')\n",
    "\n",
    "# Show the plot\n",
    "plt.show()"
   ]
  }
 ],
 "metadata": {
  "kernelspec": {
   "display_name": "venv",
   "language": "python",
   "name": "python3"
  },
  "language_info": {
   "name": "python",
   "version": "3.11.9"
  }
 },
 "nbformat": 4,
 "nbformat_minor": 2
}
